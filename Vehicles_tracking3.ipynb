{
  "nbformat": 4,
  "nbformat_minor": 0,
  "metadata": {
    "colab": {
      "provenance": []
    },
    "kernelspec": {
      "name": "python3",
      "display_name": "Python 3"
    },
    "language_info": {
      "name": "python"
    }
  },
  "cells": [
    {
      "cell_type": "code",
      "source": [
        "!cp \"/content/drive/MyDrive/Colab Notebooks/Vehicles tracking.ipynb\" .\n"
      ],
      "metadata": {
        "id": "vhufPeTiMakc"
      },
      "execution_count": 104,
      "outputs": []
    },
    {
      "cell_type": "code",
      "source": [
        "!pwd"
      ],
      "metadata": {
        "colab": {
          "base_uri": "https://localhost:8080/"
        },
        "id": "6lx7Wt4nP59n",
        "outputId": "0c194940-0092-4451-a203-df668ebf7719"
      },
      "execution_count": 105,
      "outputs": [
        {
          "output_type": "stream",
          "name": "stdout",
          "text": [
            "/content/Vehicles-Tracking\n"
          ]
        }
      ]
    },
    {
      "cell_type": "code",
      "source": [
        "from google.colab import drive\n",
        "drive.mount('/content/drive' ,force_remount=True)\n"
      ],
      "metadata": {
        "colab": {
          "base_uri": "https://localhost:8080/"
        },
        "id": "VCMbwyXv2GAx",
        "outputId": "e7cf69cd-d430-4d26-f5c7-fbe361378f6a"
      },
      "execution_count": 71,
      "outputs": [
        {
          "output_type": "stream",
          "name": "stdout",
          "text": [
            "Mounted at /content/drive\n"
          ]
        }
      ]
    },
    {
      "cell_type": "code",
      "source": [
        "!pwd"
      ],
      "metadata": {
        "colab": {
          "base_uri": "https://localhost:8080/"
        },
        "id": "fXOzEV6TOG2w",
        "outputId": "7f03e648-8887-4c5f-b4f5-4d1333f8d9ac"
      },
      "execution_count": 96,
      "outputs": [
        {
          "output_type": "stream",
          "name": "stdout",
          "text": [
            "/content/Vehicles-Tracking\n"
          ]
        }
      ]
    },
    {
      "cell_type": "code",
      "source": [
        "%cd Vehicles-Tracking/"
      ],
      "metadata": {
        "colab": {
          "base_uri": "https://localhost:8080/"
        },
        "id": "_3MbhQvIIdv4",
        "outputId": "fcac765f-1412-4b30-8f60-217404b233df"
      },
      "execution_count": 69,
      "outputs": [
        {
          "output_type": "stream",
          "name": "stdout",
          "text": [
            "/content/Vehicles-Tracking\n"
          ]
        }
      ]
    },
    {
      "cell_type": "code",
      "source": [
        "!cp '/content/drive/My Drive/deep_sort_pytorch-20241015T185403Z-001.zip' ./deep_sort_pytorch.zip"
      ],
      "metadata": {
        "id": "NkoB3kO83OhB"
      },
      "execution_count": null,
      "outputs": []
    },
    {
      "cell_type": "code",
      "source": [
        "!apt-get install git\n"
      ],
      "metadata": {
        "colab": {
          "base_uri": "https://localhost:8080/"
        },
        "id": "QEiNgl5A2C1S",
        "outputId": "2e54d8c3-4e13-48b5-ec51-8745c90a7ecc"
      },
      "execution_count": 72,
      "outputs": [
        {
          "output_type": "stream",
          "name": "stdout",
          "text": [
            "Reading package lists... Done\n",
            "Building dependency tree... Done\n",
            "Reading state information... Done\n",
            "git is already the newest version (1:2.34.1-1ubuntu1.11).\n",
            "0 upgraded, 0 newly installed, 0 to remove and 49 not upgraded.\n"
          ]
        }
      ]
    },
    {
      "cell_type": "code",
      "source": [
        "!git config --global user.name \"salah1919\"\n",
        "!git config --global user.email \"salah.eldin.rabea13@gmail.com\""
      ],
      "metadata": {
        "id": "DUBrBQrd2gpx"
      },
      "execution_count": 73,
      "outputs": []
    },
    {
      "cell_type": "code",
      "source": [
        "!git clone https://github.com/salah1919/Vehicles-Tracking.git"
      ],
      "metadata": {
        "colab": {
          "base_uri": "https://localhost:8080/"
        },
        "id": "pNUSqwCAGvDS",
        "outputId": "feb50eb2-ba00-40ce-8e1c-d8d2a4c74408"
      },
      "execution_count": 60,
      "outputs": [
        {
          "output_type": "stream",
          "name": "stdout",
          "text": [
            "Cloning into 'Vehicles-Tracking'...\n",
            "remote: Enumerating objects: 3, done.\u001b[K\n",
            "remote: Counting objects:  33% (1/3)\u001b[K\rremote: Counting objects:  66% (2/3)\u001b[K\rremote: Counting objects: 100% (3/3)\u001b[K\rremote: Counting objects: 100% (3/3), done.\u001b[K\n",
            "Receiving objects:  33% (1/3)\rremote: Total 3 (delta 0), reused 0 (delta 0), pack-reused 0 (from 0)\u001b[K\n",
            "Receiving objects:  66% (2/3)\rReceiving objects: 100% (3/3)\rReceiving objects: 100% (3/3), done.\n"
          ]
        }
      ]
    },
    {
      "cell_type": "code",
      "execution_count": null,
      "metadata": {
        "colab": {
          "base_uri": "https://localhost:8080/"
        },
        "id": "reiuEofRywle",
        "outputId": "5864f189-d1c4-4fd9-9b00-ffa29e89af4d"
      },
      "outputs": [
        {
          "output_type": "stream",
          "name": "stdout",
          "text": [
            "Cloning into 'Object-Tracking-YOLOv10-DeepSORT'...\n",
            "remote: Enumerating objects: 813, done.\u001b[K\n",
            "remote: Counting objects: 100% (813/813), done.\u001b[K\n",
            "remote: Compressing objects: 100% (798/798), done.\u001b[K\n",
            "remote: Total 813 (delta 156), reused 0 (delta 0), pack-reused 0 (from 0)\u001b[K\n",
            "Receiving objects: 100% (813/813), 38.70 MiB | 8.63 MiB/s, done.\n",
            "Resolving deltas: 100% (156/156), done.\n"
          ]
        }
      ],
      "source": [
        "!git clone https://github.com/MuhammadMoinFaisal/Object-Tracking-YOLOv10-DeepSORT.git"
      ]
    },
    {
      "cell_type": "code",
      "source": [
        "import zipfile\n",
        "import os\n",
        "\n",
        "# Replace 'your_file.zip' with the name of the uploaded ZIP file\n",
        "zip_file_path = '/content/Vehicles-Tracking/deep_sort_pytorch.zip'  # Use the exact name of your uploaded ZIP file\n",
        "extract_path = '/content/Vehicles-Tracking/Object-Tracking-YOLOv10-DeepSORT/yolov10'  # Folder to extract to\n",
        "\n",
        "# Create a directory to extract to\n",
        "os.makedirs(extract_path, exist_ok=True)\n",
        "\n",
        "# Unzip the file\n",
        "with zipfile.ZipFile(zip_file_path, 'r') as zip_ref:\n",
        "    zip_ref.extractall(extract_path)\n",
        "\n",
        "print(\"Files extracted to:\", extract_path)"
      ],
      "metadata": {
        "colab": {
          "base_uri": "https://localhost:8080/"
        },
        "id": "Cfeh-hLn2wXR",
        "outputId": "904837c2-ccf2-4929-e134-202b73ffd95f"
      },
      "execution_count": null,
      "outputs": [
        {
          "output_type": "stream",
          "name": "stdout",
          "text": [
            "Files extracted to: /content/Object-Tracking-YOLOv10-DeepSORT/yolov10\n"
          ]
        }
      ]
    },
    {
      "cell_type": "code",
      "source": [
        "%cd /content/Vehicles-Tracking/Object-Tracking-YOLOv10-DeepSORT/yolov10"
      ],
      "metadata": {
        "colab": {
          "base_uri": "https://localhost:8080/"
        },
        "id": "QT9rMnoD3Z-Q",
        "outputId": "c67cf73d-78ce-430e-ff2b-3393f7500aa1"
      },
      "execution_count": 123,
      "outputs": [
        {
          "output_type": "stream",
          "name": "stdout",
          "text": [
            "/content/Vehicles-Tracking/Object-Tracking-YOLOv10-DeepSORT/yolov10\n"
          ]
        }
      ]
    },
    {
      "cell_type": "code",
      "source": [
        "import cv2\n",
        "import math\n",
        "import time\n",
        "import torch\n",
        "from ultralytics import YOLOv10\n",
        "from utils.object_tracking import ObjectTracking\n",
        "from tqdm import tqdm\n",
        "import numpy as np\n",
        "from collections import deque\n",
        "\n",
        "# Initialize object tracking\n",
        "objectTracking = ObjectTracking()\n",
        "deepsort = objectTracking.initialize_deepsort()\n",
        "\n",
        "# Create a Video Capture Object\n",
        "cap = cv2.VideoCapture(\"Resources/video1.mp4\")\n",
        "model = YOLOv10(\"weights/yolov10n.pt\")\n",
        "cocoClassNames = [\"person\", \"bicycle\", \"car\", \"motorbike\", \"aeroplane\", \"bus\", \"train\",\n",
        "                  \"truck\", \"boat\", \"traffic light\", \"fire hydrant\", \"stop sign\", \"parking meter\",\n",
        "                  \"bench\", \"bird\", \"cat\", \"dog\", \"horse\", \"sheep\", \"cow\", \"elephant\", \"bear\",\n",
        "                  \"zebra\", \"giraffe\", \"backpack\", \"umbrella\", \"handbag\", \"tie\", \"suitcase\",\n",
        "                  \"frisbee\", \"skis\", \"snowboard\", \"sports ball\", \"kite\", \"baseball bat\",\n",
        "                  \"baseball glove\", \"skateboard\", \"surfboard\", \"tennis racket\", \"bottle\",\n",
        "                  \"wine glass\", \"cup\", \"fork\", \"knife\", \"spoon\", \"bowl\", \"banana\", \"apple\",\n",
        "                  \"sandwich\", \"orange\", \"broccoli\", \"carrot\", \"hot dog\", \"pizza\", \"donut\",\n",
        "                  \"cake\", \"chair\", \"sofa\", \"potted plant\", \"bed\", \"dining table\", \"toilet\",\n",
        "                  \"tv monitor\", \"laptop\", \"mouse\", \"remote\", \"keyboard\", \"cell phone\",\n",
        "                  \"microwave\", \"oven\", \"toaster\", \"sink\", \"refrigerator\", \"book\", \"clock\",\n",
        "                  \"vase\", \"scissors\", \"teddy bear\", \"hair drier\", \"toothbrush\"]\n",
        "\n",
        "# Get video properties for output\n",
        "frame_width = int(cap.get(cv2.CAP_PROP_FRAME_WIDTH))\n",
        "frame_height = int(cap.get(cv2.CAP_PROP_FRAME_HEIGHT))\n",
        "fps = cap.get(cv2.CAP_PROP_FPS)\n",
        "\n",
        "# Set up video writer\n",
        "output_video_path = \"processed_video.mp4\"\n",
        "fourcc = cv2.VideoWriter_fourcc(*'mp4v')\n",
        "out = cv2.VideoWriter(output_video_path, fourcc, fps, (frame_width, frame_height))\n",
        "\n",
        "# Prepare for progress tracking\n",
        "total_frames = int(cap.get(cv2.CAP_PROP_FRAME_COUNT))\n",
        "pbar = tqdm(total=total_frames)\n",
        "\n",
        "# Initialize object counters and position tracking\n",
        "crossed_object_count = {name: 0 for name in cocoClassNames}\n",
        "object_positions = {}  # To store previous positions of tracked objects\n",
        "previous_positions = {}  # To store last known center positions of the objects\n",
        "counted_objects = set()  # To track counted objects\n",
        "\n",
        "# Calculate line position: 67% above the bottom of the frame\n",
        "line_y_position = int(frame_height * 0.67)\n",
        "\n",
        "# Process video frames\n",
        "prev_time = time.time()\n",
        "\n",
        "while True:\n",
        "    ret, frame = cap.read()\n",
        "    if not ret:\n",
        "        break\n",
        "\n",
        "    results = model.predict(frame, conf=0.05)  # Use a lower confidence threshold\n",
        "    xywh_bboxs, confs, oids = [], [], []\n",
        "\n",
        "    for result in results:\n",
        "        boxes = result.boxes\n",
        "        for box in boxes:\n",
        "            x1, y1, x2, y2 = box.xyxy[0].int()\n",
        "            cx, cy = int((x1 + x2) / 2), int((y1 + y2) / 2)\n",
        "            bbox_width, bbox_height = abs(x1 - x2), abs(y1 - y2)\n",
        "            xywh_bboxs.append([cx, cy, bbox_width, bbox_height])\n",
        "            confs.append(math.ceil(box.conf[0] * 100) / 100)\n",
        "            oids.append(int(box.cls[0]))\n",
        "\n",
        "    current_time = time.time()\n",
        "    time_elapsed = current_time - prev_time\n",
        "\n",
        "    if xywh_bboxs:\n",
        "        xywhs = torch.tensor(xywh_bboxs)\n",
        "        confidence = torch.tensor(confs)\n",
        "        outputs = deepsort.update(xywhs, confidence, oids, frame)\n",
        "\n",
        "        if outputs is not None and len(outputs) > 0:\n",
        "            bbox_xyxy = outputs[:, :4]\n",
        "            identities = outputs[:, -2]\n",
        "            classID = outputs[:, -1]\n",
        "\n",
        "            for i in range(len(identities)):\n",
        "                identity = int(identities[i])\n",
        "                class_id = int(classID[i])\n",
        "                object_name = cocoClassNames[class_id]\n",
        "\n",
        "                # Initialize positions if the identity is new\n",
        "                if identity not in object_positions:\n",
        "                    object_positions[identity] = deque(maxlen=10)\n",
        "                    previous_positions[identity] = None  # Initialize to None\n",
        "\n",
        "                # Update current position\n",
        "                cx, cy = xywh_bboxs[i][0], xywh_bboxs[i][1]\n",
        "                object_positions[identity].append((cx, cy))\n",
        "\n",
        "                # Check for crossing the line\n",
        "                if previous_positions[identity] is not None:\n",
        "                    if previous_positions[identity] < line_y_position <= cy:\n",
        "                        if identity not in counted_objects:\n",
        "                            counted_objects.add(identity)\n",
        "                            crossed_object_count[object_name] += 1  # Increment the count\n",
        "                    elif previous_positions[identity] >= line_y_position > cy:\n",
        "                        if identity not in counted_objects:\n",
        "                            counted_objects.add(identity)\n",
        "                            crossed_object_count[object_name] += 1  # Increment the count\n",
        "\n",
        "                # Update the last known center position\n",
        "                previous_positions[identity] = cy\n",
        "\n",
        "            objectTracking.draw_boxes(frame, bbox_xyxy, identities, classID)\n",
        "\n",
        "    # Draw the thin red line 67% above the bottom of the screen\n",
        "    cv2.line(frame, (0, line_y_position), (frame_width, line_y_position), (0, 0, 255), 2)\n",
        "\n",
        "    # Display overlay with individual counts\n",
        "    overlay_height = 50 + 30 * len([name for name, count in crossed_object_count.items() if count > 0])\n",
        "    overlay_width = 300\n",
        "    overlay = np.zeros((overlay_height, overlay_width, 3), dtype=np.uint8)\n",
        "    overlay[:, :] = (0, 0, 0)\n",
        "    alpha = 0.5\n",
        "\n",
        "    y_offset = 30\n",
        "    total_count = 0  # To keep track of the total count of all objects\n",
        "    for object_name, count in crossed_object_count.items():\n",
        "        if count > 0:\n",
        "            text = f\"{object_name}: {count}\"\n",
        "            cv2.putText(overlay, text, (10, y_offset),\n",
        "                        cv2.FONT_HERSHEY_PLAIN, 1.5, (255, 255, 255), 2)\n",
        "            y_offset += 30\n",
        "            total_count += count\n",
        "\n",
        "    # Display total count in the corner\n",
        "    cv2.putText(overlay, f\"Total Count: {total_count}\", (10, y_offset),\n",
        "                cv2.FONT_HERSHEY_PLAIN, 1.5, (255, 255, 255), 2)\n",
        "\n",
        "    # Position overlay at the top left corner\n",
        "    overlay_x, overlay_y = 10, 10\n",
        "    frame[overlay_y:overlay_y + overlay_height, overlay_x:overlay_x + overlay_width] = \\\n",
        "        cv2.addWeighted(overlay, alpha, frame[overlay_y:overlay_y + overlay_height, overlay_x:overlay_x + overlay_width], 1 - alpha, 0)\n",
        "\n",
        "    out.write(frame)\n",
        "    pbar.update(1)\n",
        "    prev_time = current_time\n",
        "\n",
        "# Release resources\n",
        "cap.release()\n",
        "out.release()\n",
        "pbar.close()\n"
      ],
      "metadata": {
        "id": "_W_Ru5owLUrP"
      },
      "execution_count": null,
      "outputs": []
    },
    {
      "cell_type": "code",
      "source": [
        "%cd /content/Object-Tracking-YOLOv10-DeepSORT/\n"
      ],
      "metadata": {
        "colab": {
          "base_uri": "https://localhost:8080/"
        },
        "id": "yfpFVibt8N7s",
        "outputId": "12a4c788-3eec-408a-85f8-eee7e3f66c70"
      },
      "execution_count": null,
      "outputs": [
        {
          "output_type": "stream",
          "name": "stdout",
          "text": [
            "/content/Object-Tracking-YOLOv10-DeepSORT\n"
          ]
        }
      ]
    },
    {
      "cell_type": "code",
      "source": [
        "!git add ."
      ],
      "metadata": {
        "id": "J0Pn3f1m9nDG"
      },
      "execution_count": null,
      "outputs": []
    },
    {
      "cell_type": "code",
      "source": [
        "!git commit -m \"Add Vehicles tracking notebook\""
      ],
      "metadata": {
        "colab": {
          "base_uri": "https://localhost:8080/"
        },
        "id": "GYm8GpUT9r12",
        "outputId": "53a4328b-0945-4c7c-c43c-4e83b1f3b68e"
      },
      "execution_count": null,
      "outputs": [
        {
          "output_type": "stream",
          "name": "stdout",
          "text": [
            "On branch main\n",
            "Your branch is up to date with 'origin/main'.\n",
            "\n",
            "nothing to commit, working tree clean\n"
          ]
        }
      ]
    },
    {
      "cell_type": "code",
      "source": [
        "!git add \"Vehicles tracking.ipynb\"\n"
      ],
      "metadata": {
        "id": "4Qyfl1ENJ6_X"
      },
      "execution_count": 111,
      "outputs": []
    },
    {
      "cell_type": "code",
      "source": [
        "!git commit -a \"Add my notebook\"\n"
      ],
      "metadata": {
        "colab": {
          "base_uri": "https://localhost:8080/"
        },
        "id": "hRX7Qn3VJ7u1",
        "outputId": "0328c0e3-5844-40ae-f0f2-77b4426fbe96"
      },
      "execution_count": 114,
      "outputs": [
        {
          "output_type": "stream",
          "name": "stdout",
          "text": [
            "fatal: paths 'Add my notebook ...' with -a does not make sense\n"
          ]
        }
      ]
    },
    {
      "cell_type": "code",
      "source": [
        "!git push origin main\n"
      ],
      "metadata": {
        "colab": {
          "base_uri": "https://localhost:8080/"
        },
        "id": "UhEjng2nKJjV",
        "outputId": "ea89e029-84e4-4b09-aa06-f914cfe0339f"
      },
      "execution_count": 112,
      "outputs": [
        {
          "output_type": "stream",
          "name": "stdout",
          "text": [
            "Everything up-to-date\n"
          ]
        }
      ]
    },
    {
      "cell_type": "code",
      "source": [
        "!git add ."
      ],
      "metadata": {
        "colab": {
          "base_uri": "https://localhost:8080/"
        },
        "id": "VRhuzeE4KNfd",
        "outputId": "f3547e4e-7dcc-4642-b151-12461251e11f"
      },
      "execution_count": 82,
      "outputs": [
        {
          "output_type": "stream",
          "name": "stdout",
          "text": [
            "warning: adding embedded git repository: Object-Tracking-YOLOv10-DeepSORT\n",
            "\u001b[33mhint: You've added another git repository inside your current repository.\u001b[m\n",
            "\u001b[33mhint: Clones of the outer repository will not contain the contents of\u001b[m\n",
            "\u001b[33mhint: the embedded repository and will not know how to obtain it.\u001b[m\n",
            "\u001b[33mhint: If you meant to add a submodule, use:\u001b[m\n",
            "\u001b[33mhint: \u001b[m\n",
            "\u001b[33mhint: \tgit submodule add <url> Object-Tracking-YOLOv10-DeepSORT\u001b[m\n",
            "\u001b[33mhint: \u001b[m\n",
            "\u001b[33mhint: If you added this path by mistake, you can remove it from the\u001b[m\n",
            "\u001b[33mhint: index with:\u001b[m\n",
            "\u001b[33mhint: \u001b[m\n",
            "\u001b[33mhint: \tgit rm --cached Object-Tracking-YOLOv10-DeepSORT\u001b[m\n",
            "\u001b[33mhint: \u001b[m\n",
            "\u001b[33mhint: See \"git help submodule\" for more information.\u001b[m\n"
          ]
        }
      ]
    },
    {
      "cell_type": "code",
      "source": [
        "!git commit -m \"Add entire folder\""
      ],
      "metadata": {
        "colab": {
          "base_uri": "https://localhost:8080/"
        },
        "id": "M-TZTnivKouu",
        "outputId": "e047c33d-4782-492b-d2fe-7e3958a267e1"
      },
      "execution_count": 83,
      "outputs": [
        {
          "output_type": "stream",
          "name": "stdout",
          "text": [
            "[main f6a04a0] Add entire folder\n",
            " 2 files changed, 1 insertion(+)\n",
            " create mode 160000 Object-Tracking-YOLOv10-DeepSORT\n",
            " create mode 100644 deep_sort_pytorch.zip\n"
          ]
        }
      ]
    },
    {
      "cell_type": "code",
      "source": [
        "!git push origin main\n"
      ],
      "metadata": {
        "colab": {
          "base_uri": "https://localhost:8080/"
        },
        "id": "N97JXdiIKyEJ",
        "outputId": "ad6524a8-0445-4b4b-b3d5-c849cecad849"
      },
      "execution_count": 84,
      "outputs": [
        {
          "output_type": "stream",
          "name": "stdout",
          "text": [
            "Enumerating objects: 4, done.\n",
            "Counting objects:  25% (1/4)\rCounting objects:  50% (2/4)\rCounting objects:  75% (3/4)\rCounting objects: 100% (4/4)\rCounting objects: 100% (4/4), done.\n",
            "Delta compression using up to 2 threads\n",
            "Compressing objects: 100% (3/3), done.\n",
            "Writing objects: 100% (3/3), 41.12 MiB | 16.81 MiB/s, done.\n",
            "Total 3 (delta 0), reused 0 (delta 0), pack-reused 0\n",
            "To https://github.com/salah1919/Vehicles-Tracking.git\n",
            "   8529511..f6a04a0  main -> main\n"
          ]
        }
      ]
    },
    {
      "cell_type": "code",
      "source": [
        "%cd /content/Vehicles-Tracking"
      ],
      "metadata": {
        "colab": {
          "base_uri": "https://localhost:8080/"
        },
        "id": "qLYrcQTaK3xh",
        "outputId": "be2c6040-58d6-41dc-e5ed-741ff507c383"
      },
      "execution_count": 88,
      "outputs": [
        {
          "output_type": "stream",
          "name": "stdout",
          "text": [
            "/content/Vehicles-Tracking\n"
          ]
        }
      ]
    },
    {
      "cell_type": "code",
      "source": [],
      "metadata": {
        "id": "IA-bTmteR_uy"
      },
      "execution_count": null,
      "outputs": []
    }
  ]
}